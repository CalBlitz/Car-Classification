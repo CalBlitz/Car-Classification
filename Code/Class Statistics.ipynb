{
 "cells": [
  {
   "cell_type": "markdown",
   "metadata": {},
   "source": [
    "# Class Statistics\n",
    "\n",
    "Gather background data on classes, etc. for proposal."
   ]
  },
  {
   "cell_type": "code",
   "execution_count": 49,
   "metadata": {},
   "outputs": [],
   "source": [
    "# Packages\n",
    "import pandas as pd\n",
    "import matplotlib.pyplot as plt"
   ]
  },
  {
   "cell_type": "code",
   "execution_count": 50,
   "metadata": {},
   "outputs": [
    {
     "data": {
      "text/html": [
       "<div>\n",
       "<style scoped>\n",
       "    .dataframe tbody tr th:only-of-type {\n",
       "        vertical-align: middle;\n",
       "    }\n",
       "\n",
       "    .dataframe tbody tr th {\n",
       "        vertical-align: top;\n",
       "    }\n",
       "\n",
       "    .dataframe thead th {\n",
       "        text-align: right;\n",
       "    }\n",
       "</style>\n",
       "<table border=\"1\" class=\"dataframe\">\n",
       "  <thead>\n",
       "    <tr style=\"text-align: right;\">\n",
       "      <th></th>\n",
       "      <th>Name</th>\n",
       "      <th>Class</th>\n",
       "    </tr>\n",
       "  </thead>\n",
       "  <tbody>\n",
       "    <tr>\n",
       "      <th>0</th>\n",
       "      <td>AM General Hummer SUV 2000</td>\n",
       "      <td>SUV</td>\n",
       "    </tr>\n",
       "    <tr>\n",
       "      <th>1</th>\n",
       "      <td>Acura RL Sedan 2012</td>\n",
       "      <td>Sedan</td>\n",
       "    </tr>\n",
       "    <tr>\n",
       "      <th>2</th>\n",
       "      <td>Acura TL Sedan 2012</td>\n",
       "      <td>Sedan</td>\n",
       "    </tr>\n",
       "    <tr>\n",
       "      <th>3</th>\n",
       "      <td>Acura TL Type-S 2008</td>\n",
       "      <td>Sedan</td>\n",
       "    </tr>\n",
       "    <tr>\n",
       "      <th>4</th>\n",
       "      <td>Acura TSX Sedan 2012</td>\n",
       "      <td>Sedan</td>\n",
       "    </tr>\n",
       "    <tr>\n",
       "      <th>...</th>\n",
       "      <td>...</td>\n",
       "      <td>...</td>\n",
       "    </tr>\n",
       "    <tr>\n",
       "      <th>191</th>\n",
       "      <td>Volkswagen Beetle Hatchback 2012</td>\n",
       "      <td>Hatchback</td>\n",
       "    </tr>\n",
       "    <tr>\n",
       "      <th>192</th>\n",
       "      <td>Volvo C30 Hatchback 2012</td>\n",
       "      <td>Hatchback</td>\n",
       "    </tr>\n",
       "    <tr>\n",
       "      <th>193</th>\n",
       "      <td>Volvo 240 Sedan 1993</td>\n",
       "      <td>Sedan</td>\n",
       "    </tr>\n",
       "    <tr>\n",
       "      <th>194</th>\n",
       "      <td>Volvo XC90 SUV 2007</td>\n",
       "      <td>SUV</td>\n",
       "    </tr>\n",
       "    <tr>\n",
       "      <th>195</th>\n",
       "      <td>smart fortwo Convertible 2012</td>\n",
       "      <td>Convertible</td>\n",
       "    </tr>\n",
       "  </tbody>\n",
       "</table>\n",
       "<p>196 rows × 2 columns</p>\n",
       "</div>"
      ],
      "text/plain": [
       "                                 Name        Class\n",
       "0          AM General Hummer SUV 2000          SUV\n",
       "1                 Acura RL Sedan 2012        Sedan\n",
       "2                 Acura TL Sedan 2012        Sedan\n",
       "3                Acura TL Type-S 2008        Sedan\n",
       "4                Acura TSX Sedan 2012        Sedan\n",
       "..                                ...          ...\n",
       "191  Volkswagen Beetle Hatchback 2012    Hatchback\n",
       "192          Volvo C30 Hatchback 2012    Hatchback\n",
       "193              Volvo 240 Sedan 1993        Sedan\n",
       "194               Volvo XC90 SUV 2007          SUV\n",
       "195     smart fortwo Convertible 2012  Convertible\n",
       "\n",
       "[196 rows x 2 columns]"
      ]
     },
     "execution_count": 50,
     "metadata": {},
     "output_type": "execute_result"
    }
   ],
   "source": [
    "# Load names and proposed classes dataset\n",
    "# Excel file \"~/Box/INFO 290T Project/Names and Proposed Classes.xlsx\"\n",
    "names_and_proposed_classes = pd.read_excel('~/Box/INFO 290T Project/Names and Proposed Classes.xlsx')\n",
    "names_and_proposed_classes"
   ]
  },
  {
   "cell_type": "code",
   "execution_count": 51,
   "metadata": {},
   "outputs": [
    {
     "name": "stdout",
     "output_type": "stream",
     "text": [
      "   Proposed Class  Original Classes (Make, Model, Year)\n",
      "0           Sedan                                    51\n",
      "1             SUV                                    37\n",
      "2           Coupe                                    32\n",
      "3     Convertible                                    26\n",
      "4       Hatchback                                    13\n",
      "5          Pickup                                    13\n",
      "6           Wagon                                     7\n",
      "7             Van                                     7\n",
      "8         Minivan                                     6\n",
      "9             Cab                                     3\n",
      "10          Hatch                                     1\n"
     ]
    },
    {
     "data": {
      "image/png": "[encoded data removed]",
      "text/plain": [
       "<Figure size 640x480 with 1 Axes>"
      ]
     },
     "metadata": {},
     "output_type": "display_data"
    }
   ],
   "source": [
    "# Proposed classes and counts in original data\n",
    "# Rename columns\n",
    "proposed_classes = names_and_proposed_classes['Class'].value_counts().reset_index().rename(columns={'Class': 'Proposed Class', 'count': 'Original Classes (Make, Model, Year)'})\n",
    "print(proposed_classes)\n",
    "\n",
    "# Bar chart of counts by Class\n",
    "# Horizontal bar chart\n",
    "plt.barh(proposed_classes['Proposed Class'], proposed_classes['Original Classes (Make, Model, Year)'])\n",
    "plt.xlabel('Original Classes (Make, Model, Year)')\n",
    "plt.ylabel('Proposed Class')\n",
    "plt.savefig('../Output/Original_Classes_by_Proposed_Class.png', bbox_inches='tight')"
   ]
  }
 ],
 "metadata": {
  "kernelspec": {
   "display_name": "computervision",
   "language": "python",
   "name": "python3"
  },
  "language_info": {
   "codemirror_mode": {
    "name": "ipython",
    "version": 3
   },
   "file_extension": ".py",
   "mimetype": "text/x-python",
   "name": "python",
   "nbconvert_exporter": "python",
   "pygments_lexer": "ipython3",
   "version": "3.12.0"
  }
 },
 "nbformat": 4,
 "nbformat_minor": 2
}
